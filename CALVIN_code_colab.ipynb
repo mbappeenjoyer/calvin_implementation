{
  "cells": [
    {
      "cell_type": "markdown",
      "metadata": {
        "id": "oxZBGsoIsT3H"
      },
      "source": [
        "### Setup"
      ]
    },
    {
      "cell_type": "code",
      "execution_count": null,
      "metadata": {
        "id": "QZg5HAwNsTgs"
      },
      "outputs": [],
      "source": []
    },
    {
      "cell_type": "code",
      "execution_count": null,
      "metadata": {
        "id": "vNDuOe9luInu"
      },
      "outputs": [],
      "source": [
        "#training.py\n",
        "#play_trainer.yaml\n",
        "#evaluate_policy.py\n",
        "#evaluation/utils.py\n",
        "#mcil.py"
      ]
    },
    {
      "cell_type": "code",
      "execution_count": null,
      "metadata": {
        "colab": {
          "base_uri": "https://localhost:8080/"
        },
        "id": "7IIfJyz6Ch1E",
        "outputId": "a4ecbc91-a166-46fe-afb5-b9c02def0998"
      },
      "outputs": [],
      "source": [
        "!git clone --recurse-submodules https://github.com/mbappeenjoyer/calvin_implementation.git"
      ]
    },
    {
      "cell_type": "code",
      "execution_count": null,
      "metadata": {
        "colab": {
          "base_uri": "https://localhost:8080/"
        },
        "id": "LjFaemDkR1Aq",
        "outputId": "f95cfd7a-97e7-438a-b3e2-4ea5e3c61701"
      },
      "outputs": [],
      "source": [
        "!export CALVIN_ROOT=$(pwd)/calvin_implementation\n",
        "!sudo apt-get update -y\n",
        "!sudo apt-get install python3.8\n",
        "from IPython.display import clear_output\n",
        "clear_output()\n",
        "!sudo update-alternatives --install /usr/bin/python3 python3 /usr/bin/python3.8 1\n",
        "\n",
        "!sudo update-alternatives  --set python3 /usr/bin/python3.8\n",
        "\n",
        "# Check the result\n",
        "!python3 --version\n",
        "\n",
        "# Attention: Install pip (... needed!)\n",
        "!sudo apt install python3-pip"
      ]
    },
    {
      "cell_type": "code",
      "execution_count": null,
      "metadata": {
        "colab": {
          "base_uri": "https://localhost:8080/"
        },
        "id": "VjDnRXRjUY2O",
        "outputId": "482012de-c328-4253-9de2-72827f83cf6f"
      },
      "outputs": [],
      "source": [
        "!sudo apt-get install python3.8-distutils\n",
        "!sudo apt-get update\n",
        "!sudo apt-get install python3.8-dev build-essential"
      ]
    },
    {
      "cell_type": "code",
      "execution_count": null,
      "metadata": {
        "colab": {
          "base_uri": "https://localhost:8080/",
          "height": 1000
        },
        "id": "7soUb_nAVbh6",
        "outputId": "8824ce94-660f-4123-f0cd-d4fb81015a8b"
      },
      "outputs": [],
      "source": [
        "!pip install \"setuptools<58.0.0\"\n",
        "!pip install --verbose pyhash==0.9.3\n",
        "!pip install wheel cmake==3.18.4\n",
        "!pip install lightning-lite\n",
        "!pip install pytorch-lightning\n",
        "!pip install numpy-quaternion rich"
      ]
    },
    {
      "cell_type": "code",
      "execution_count": null,
      "metadata": {
        "colab": {
          "base_uri": "https://localhost:8080/"
        },
        "id": "cqUKqjL3q6Ep",
        "outputId": "c340ae89-d072-4458-bdad-4844901054e1"
      },
      "outputs": [],
      "source": [
        "%cd /content/calvin_implementation\n",
        "!sh install.sh"
      ]
    },
    {
      "cell_type": "code",
      "execution_count": null,
      "metadata": {
        "colab": {
          "base_uri": "https://localhost:8080/"
        },
        "id": "_e77apJDGJRo",
        "outputId": "dd8ac9ea-ee36-49c8-ccc3-76719177bf19"
      },
      "outputs": [],
      "source": [
        "%cd /content/calvin_implementation/dataset\n",
        "!sh download_data.sh debug"
      ]
    },
    {
      "cell_type": "code",
      "execution_count": null,
      "metadata": {
        "colab": {
          "base_uri": "https://localhost:8080/"
        },
        "id": "IkeynxZ5ugXw",
        "outputId": "1c24babd-2ca9-4e80-ae61-e86fbee58eb4"
      },
      "outputs": [],
      "source": [
        "%cd /content/calvin_implementation/calvin_env\n",
        "!pip install -e ."
      ]
    },
    {
      "cell_type": "code",
      "execution_count": 9,
      "metadata": {
        "colab": {
          "base_uri": "https://localhost:8080/"
        },
        "id": "qW3VCsG9WvAX",
        "outputId": "c04d2895-0c28-4125-ca09-9805d7cd5f97"
      },
      "outputs": [
        {
          "name": "stdout",
          "output_type": "stream",
          "text": [
            "/content/calvin_implementation/calvin_models/calvin_agent\n"
          ]
        }
      ],
      "source": [
        "%cd /content/calvin_implementation/calvin_models/calvin_agent"
      ]
    },
    {
      "cell_type": "code",
      "execution_count": null,
      "metadata": {
        "id": "ivWEFNdesXv1"
      },
      "outputs": [],
      "source": []
    },
    {
      "cell_type": "markdown",
      "metadata": {
        "id": "MVcJ3_WhsYTA"
      },
      "source": [
        "### Training"
      ]
    },
    {
      "cell_type": "code",
      "execution_count": null,
      "metadata": {},
      "outputs": [],
      "source": [
        "import os\n",
        "os.environ[\"HYDRA_FULL_ERROR\"]=\"1\""
      ]
    },
    {
      "cell_type": "code",
      "execution_count": null,
      "metadata": {
        "colab": {
          "base_uri": "https://localhost:8080/"
        },
        "collapsed": true,
        "id": "Qf1RjfX6Iosh",
        "outputId": "aba50195-f01c-4388-a80c-9b32d3ec88e8"
      },
      "outputs": [],
      "source": [
        "!python training.py \\\n",
        "  datamodule.root_data_dir=/content/calvin_implementation/dataset/calvin_debug_dataset \\\n",
        "  datamodule/datasets=vision_lang \\\n",
        "  datamodule.datasets.vision_dataset.num_workers=1 \\\n",
        "  datamodule.datasets.lang_dataset.num_workers=1 \\\n",
        "  datamodule.datasets.vision_dataset.batch_size=8 \\\n",
        "  datamodule.datasets.lang_dataset.batch_size=8"
      ]
    },
    {
      "cell_type": "code",
      "execution_count": null,
      "metadata": {
        "id": "CGPJOPX0A4Uv"
      },
      "outputs": [],
      "source": []
    },
    {
      "cell_type": "markdown",
      "metadata": {
        "id": "AVMVVYdqsZxJ"
      },
      "source": [
        "### Evaluation"
      ]
    },
    {
      "cell_type": "code",
      "execution_count": null,
      "metadata": {
        "colab": {
          "base_uri": "https://localhost:8080/"
        },
        "id": "zN1sF8WiZEpC",
        "outputId": "b99a425e-9d37-43b7-de5b-7b472e541b2a"
      },
      "outputs": [],
      "source": [
        "!python evaluation/evaluate_policy.py \\\n",
        "    --dataset_path=/content/calvin_implementation/dataset/calvin_debug_dataset \\\n",
        "    --train_folder=/content/calvin_implementation/calvin_models/runs/2025-10-07/22-46-16"
      ]
    },
    {
      "cell_type": "code",
      "execution_count": null,
      "metadata": {
        "id": "3U8QtGnrB6U0"
      },
      "outputs": [],
      "source": []
    }
  ],
  "metadata": {
    "accelerator": "GPU",
    "colab": {
      "gpuType": "T4",
      "provenance": []
    },
    "kernelspec": {
      "display_name": "Python 3",
      "name": "python3"
    },
    "language_info": {
      "name": "python"
    }
  },
  "nbformat": 4,
  "nbformat_minor": 0
}
